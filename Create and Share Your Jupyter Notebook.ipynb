{
 "cells": [
  {
   "cell_type": "markdown",
   "id": "1d11af03",
   "metadata": {},
   "source": [
    "### My Jupyter Notebook on IBM Watson Studio"
   ]
  },
  {
   "cell_type": "markdown",
   "id": "99686636",
   "metadata": {},
   "source": [
    "**Mai Ramadan**"
   ]
  },
  {
   "cell_type": "markdown",
   "id": "525eac6f",
   "metadata": {},
   "source": [
    "I want to be data scientist"
   ]
  },
  {
   "cell_type": "markdown",
   "id": "4a28abea",
   "metadata": {},
   "source": [
    "*Iam interested in data science because, I love solving the problem related to data, learn new skills, will help me in my biophysics Ph.D studies.*"
   ]
  },
  {
   "cell_type": "markdown",
   "id": "60d82f69",
   "metadata": {},
   "source": [
    "### This code for sum two numbers:"
   ]
  },
  {
   "cell_type": "code",
   "execution_count": 2,
   "id": "767c079e",
   "metadata": {},
   "outputs": [
    {
     "name": "stdout",
     "output_type": "stream",
     "text": [
      "14\n"
     ]
    }
   ],
   "source": [
    "num1=5\n",
    "num2=9\n",
    "print(num1+num2)"
   ]
  },
  {
   "cell_type": "markdown",
   "id": "3119e3dc",
   "metadata": {},
   "source": [
    "1. One\n",
    "2. Two  \n",
    "3. Three\n",
    "4. Four\n",
    "5. Five"
   ]
  },
  {
   "cell_type": "markdown",
   "id": "5ea78a23",
   "metadata": {},
   "source": [
    "|Class 1|Class 2|\n",
    "|-------|-------|\n",
    "| 30 st.|  35st.|"
   ]
  },
  {
   "cell_type": "code",
   "execution_count": null,
   "id": "c34abd13",
   "metadata": {},
   "outputs": [],
   "source": []
  }
 ],
 "metadata": {
  "kernelspec": {
   "display_name": "Python 3 (ipykernel)",
   "language": "python",
   "name": "python3"
  },
  "language_info": {
   "codemirror_mode": {
    "name": "ipython",
    "version": 3
   },
   "file_extension": ".py",
   "mimetype": "text/x-python",
   "name": "python",
   "nbconvert_exporter": "python",
   "pygments_lexer": "ipython3",
   "version": "3.9.12"
  }
 },
 "nbformat": 4,
 "nbformat_minor": 5
}
